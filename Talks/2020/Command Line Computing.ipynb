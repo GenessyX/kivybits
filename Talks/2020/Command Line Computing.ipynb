{
 "cells": [
  {
   "cell_type": "markdown",
   "metadata": {},
   "source": [
    "<img src=\"https://upload.wikimedia.org/wikipedia/commons/7/7a/Crystal_Clear_app_konsole.png\" align=\"right\" width=\"64\" height=\"64\" />\n",
    "\n",
    "## Command Line Computing ala POSIX"
   ]
  },
  {
   "cell_type": "markdown",
   "metadata": {},
   "source": [
    "<img src=\"https://upload.wikimedia.org/wikipedia/commons/d/d5/Crystal_Clear_action_db_status.png\" align=\"right\" width=\"64\" height=\"64\" />\n",
    "\n",
    "## Why?\n",
    "\n",
    "Although using GUI is easier and more popular, using the command line to control comuters has several advanges:\n",
    "\n",
    "* can issue infintiely more command than are visually presented\n",
    "* easier to reproduce and communicate\n",
    "* support scripting\n",
    "* support chaining of commands i.e. feeding the output of one command to another\n",
    "* can work without a GUI (fewer resources)\n",
    "* can be used remotely (ssh)"
   ]
  },
  {
   "cell_type": "markdown",
   "metadata": {},
   "source": [
    "<img src=\"https://upload.wikimedia.org/wikipedia/commons/6/69/Crystal_Clear_app_background.png\" align=\"right\" width=\"64\" height=\"64\" />\n",
    "\n",
    "## Teminals, Shells and Consoles\n",
    "\n",
    "These terms are often used interchageably, and to some extent, they are interchangeable. But there is a difference. In summary:\n",
    "\n",
    "* `terminal` - tty = text input/output environment\n",
    "* `console` - physical terminal i.e. a concrete implementation of a terminal\n",
    "* `shell` - command interpreter for unix like execution environments\n"
   ]
  },
  {
   "cell_type": "markdown",
   "metadata": {},
   "source": [
    "<img src=\"https://upload.wikimedia.org/wikipedia/commons/0/04/Crystal_Clear_app_samba.png\" align=\"right\" width=\"64\" height=\"64\" />\n",
    "\n",
    "## Terminals as Cross Platform Interfaces\n",
    "\n",
    "Although Operating Systems vary wildly in their technical implementation, most expose a *POSIX* compatible interface via command line.\n",
    "\n",
    "* *POSIX* stands for Portable Operating System Interface, and is an IEEE standard designed to facilitate application portability. POSIX is an attempt by a consortium of vendors to create a single standard version of UNIX\n",
    "\n",
    "POSIX defines the application programming interface (API), along with command line shells and utility interfaces, for software compatibility with variants of Unix and other operating systems.\n",
    "\n",
    "Please see the [Wikipedia POISX page](https://en.wikipedia.org/wiki/POSIX) for more on *POSIX*.\n"
   ]
  },
  {
   "cell_type": "markdown",
   "metadata": {},
   "source": [
    "<img src=\"https://upload.wikimedia.org/wikipedia/commons/1/1f/Crystal_Clear_app_All_software_is_current.png\" align=\"right\" width=\"64\" height=\"64\" />\n",
    "\n",
    "## Getting Started\n",
    "\n",
    "There are many choices fo Terminal applicatons. Common ones are:\n",
    "\n",
    "* `terminal` - built in MacOS terminal\n",
    "* `iTerm` - more customizable terminal for MacOS\n",
    "* `hyper` - modern, pretty, HTML5 based terminal \n",
    "* `kitty` - pretty, customizable, cross platform\n",
    "* `guake` - advnaced linux terminal with neat desktop intgration\n",
    "* many, many others.\n",
    "\n",
    "Choose one. They all work. For this demo, we'll use the one provide by this Jupyter notebook."
   ]
  },
  {
   "cell_type": "markdown",
   "metadata": {},
   "source": [
    "<img src=\"https://upload.wikimedia.org/wikipedia/commons/1/10/Crystal_Clear_app_Network_Connection_Manager.png\" align=\"right\" width=\"64\" height=\"64\" />\n",
    "\n",
    "## Shells\n",
    "\n",
    "Shells we care about most because they decide the functionailty of our terminal. i.e. The commands we wish are provided by our shell.\n",
    "\n",
    "There are most common are:\n",
    "* `bash` - ubuntu default, MacOS default before Catlalina.\n",
    "* `zsh` - more modern, feature rich. New default for MacOS Catalina\n",
    "* `sh` - Bourne shell, one of the oldest\n",
    "* `ssh` - Secure shell, still widely used to secure, remote terminal access\n",
    "* `cmd.exe` - Windows command line. Not technically a shell, but provides similar functionlity on windows\n",
    "* `powershell` - modern Windows utility with poweful programming language integration\n",
    "* many more, but of lesser importance\n",
    " \n",
    "Shells allows us to issue commands to the underlying operating system, be that creating file, moving files, invoking programs, manipulating data etc.\n",
    "\n"
   ]
  },
  {
   "cell_type": "markdown",
   "metadata": {},
   "source": [
    "<img src=\"https://upload.wikimedia.org/wikipedia/commons/6/67/Crystal_Project_Kblackbox.png\" align=\"right\" width=\"64\" height=\"64\" />\n",
    "\n",
    "## Where? What? Who? How?\n",
    "\n",
    "Let's get started with some basic commands.\n",
    "\n",
    "* `pwd` - \"Present working directory\" - gives your current *active* directory in the file system.\n",
    "* `whoami` - give the current username that you are logged in with\n",
    "* `which <cmd>` - gives the full path to the command line specified. e.g.\n",
    "* `man <cmd>` - dispaly the help and options for a given command\n"
   ]
  },
  {
   "cell_type": "markdown",
   "metadata": {},
   "source": [
    "<img src=\"https://upload.wikimedia.org/wikipedia/commons/d/d0/Crystal_Clear_app_key_bindings.png\" align=\"right\" width=\"64\" height=\"64\" />\n",
    "\n",
    "## Common Useful Keyboard Shortcuts\n",
    "\n",
    "Although each terminal application tends to have it's own shortcuts keys and configuration, most support these common shortcuts keys.\n",
    "\n",
    "* `up arrow` - show you previous command\n",
    "* `tab` - autocomplete your file name if possbble\n",
    "* `control + r` - \n",
    "* `alt + right arrow` - move forward one word\n",
    "* `alt + left arrow` - move backwards on word\n"
   ]
  },
  {
   "cell_type": "markdown",
   "metadata": {},
   "source": [
    "<img src=\"https://upload.wikimedia.org/wikipedia/commons/0/08/Crystal_Clear_filesystem_folder_blue.png\" align=\"right\" width=\"64\" height=\"64\" />\n",
    "\n",
    "## Directories\n",
    "\n",
    "The following commands help you navigate, create and remove directories.\n",
    "\n",
    "* `cd <dir>` - change your active directory to the one specified\n",
    "  * `cd .` - moved one directory up\n",
    "  * `cd -` - move back to the last directory you where in\n",
    "* `mkdir <dir>` - create a directory\n",
    "* `rm -rf <dir?` - removed a directory and everything in it. Powerful! Be careful!\n",
    "* `mv <source_dir> <dest_dir>` - move or rename a folder.\n",
    "\n",
    "**Hint**: Use tab autocompletion to check valid folder names!\n"
   ]
  },
  {
   "cell_type": "markdown",
   "metadata": {},
   "source": [
    "<img src=\"https://upload.wikimedia.org/wikipedia/commons/2/24/Crystal_Clear_mimetype_document2.png\" align=\"right\" width=\"64\" height=\"64\" />\n",
    "\n",
    "## Files\n",
    "\n",
    "This is where the fun starts....:-) \n",
    "\n",
    "The command line gives us tremendous power to:\n",
    "* create, view, extract and process files\n",
    "* pass the output of one command to another commands\n",
    "* chain commands and outputs together to performs powerful:\n",
    "  * searches\n",
    "  * modifications\n",
    "  * replacemets\n",
    "  * extractions\n",
    "\n",
    "These abilities stem from the unix priciple of small, dedicated utilities which can data and output between them, where the result is more that the sum of it's parts.\n"
   ]
  },
  {
   "cell_type": "markdown",
   "metadata": {},
   "source": [
    "<img src=\"https://upload.wikimedia.org/wikipedia/commons/e/e9/Crystal_Clear_app_korganizer.png\" align=\"right\" width=\"64\" height=\"64\" />\n",
    "\n",
    "## Creating, Reading and Writing to Files\n",
    "\n",
    "### Creating\n",
    "\n",
    "* `touch <file_name>` - create a now file with the given name\n",
    "* `> <file_name>` - a more concise way to create a file  \n",
    "* `echo \"<text>\" > <file_name>` - create a file anf fill it with the given *<text>*\n",
    "\n",
    "### Reading\n",
    "* `cat <file_name>` - show the contents of a file\n",
    "* `head <file_name>` - show the first 10 lines of a file\n",
    "* `tail <file_name>` - show the last 10 lines of a file\n",
    "* `more <file_name>` - open a file and page forwards through it\n",
    "* `less <file_name>` - open a file and page forwards and backwards through it\n",
    "\n",
    "### Writing\n",
    "\n",
    "* `echo \"<text>\" >> <file_name>` - append the *<text>* to the file\n",
    "* `echo -e \"<text>\" >> <file_name>` - append the *<text>* to the file as a new line\n"
   ]
  },
  {
   "cell_type": "markdown",
   "metadata": {},
   "source": [
    "<img src=\"https://upload.wikimedia.org/wikipedia/commons/4/43/Crystal_Clear_app_password.png\" align=\"right\" width=\"64\" height=\"64\" />\n",
    "\n",
    "## File System Attributes and Permissions\n",
    "\n",
    "In order to manage access rights and permssions, Operating systems generally attached attributes to files. We as see these via the '-l' flag.\n",
    "\n",
    "* `ls -l <folder>` - display the contents of the folder with it's permissions.\n",
    "\n",
    "These attributes are shown in 10 columns. \n",
    "* The first column indicates when it's a directory, a symlink or a file \n",
    "  * `d` - a directory\n",
    "  * `l` - a symlink (see symlink discussion later)\n",
    "  * `-` - a normal file \n",
    "* the next 9 columns show read, write and execute permissions respecting\n",
    "  * `r` - readable\n",
    "  * `w` - writable\n",
    "  * `x` - executable\n",
    "* each group of three lists the permisions for the user (owner), the group and other (everyone else).\n",
    "\n",
    "e.g. \n",
    "```\n",
    "-rw-r--r--   1 richard  staff    25 Apr  6 21:05 newfile.txt\n",
    "```\n",
    "displays a file that is the user can read and write to, but the group and everyone can only read. This is the default when creating a new file."
   ]
  },
  {
   "cell_type": "markdown",
   "metadata": {},
   "source": [
    "<img src=\"https://upload.wikimedia.org/wikipedia/commons/5/5c/Crystal_Clear_app_package_settings.png\" align=\"right\" width=\"64\" height=\"64\" />\n",
    "\n",
    "## Changing File Permissions\n",
    "\n",
    "We can change fiel permssion using the `chmod` command.\n",
    "\n",
    "* `chmod [options] <permissions> <file/folder>` - sets the attributes on given file or folder\n",
    "\n",
    "e.g. \n",
    "```\n",
    "chmod u=rwx,g=rx,o=r myfile\n",
    "```\n",
    "would give the user read, write and execute permissions, the users group read and execute permssions and others read only permissions.\n",
    "\n",
    "For a full discussion of `chmod`, see the [Wikipedia page](https://en.wikipedia.org/wiki/Chmod)"
   ]
  },
  {
   "cell_type": "markdown",
   "metadata": {},
   "source": [
    "<img src=\"https://upload.wikimedia.org/wikipedia/commons/1/10/Crystal_Clear_app_Network_Connection_Manager.png\" align=\"right\" width=\"64\" height=\"64\" />\n",
    "\n",
    "## Command Line Text Editors\n",
    "\n",
    "There are many command line text editor for creating and editing files on disk. So of the more common ones are:\n",
    "\n",
    "* `vi` - simplest and most prevalent editor. Useful as it's present of most containers. Uses a \"macros\" language\n",
    "* `vim` - vi enhanced, with more features and function.\n",
    "* `nano` - another lightweight editor\n",
    "* `emacs` - another highly popular editor, but can also perform file management, terminal emulation and more.\n",
    "\n",
    "For a complete list, see the [Wikipedia Text Editor page](https://en.wikipedia.org/wiki/List_of_text_editors)"
   ]
  },
  {
   "cell_type": "markdown",
   "metadata": {},
   "source": [
    "<img src=\"https://upload.wikimedia.org/wikipedia/commons/9/91/Crystal_Project_app_kfouleggs.png\" align=\"right\" width=\"64\" height=\"64\" />\n",
    "\n",
    "## Connecting Commands\n",
    "\n",
    "The commands we've looked at so far get us started, but do nothing special on their own. To unleash the beastly power of the commnad line, we need a way to make them work together. The simplest method is the pipe operator.\n",
    "\n",
    "### The Pipe\n",
    "\n",
    "* `|` - the \"pipe\" operator directs to output of one command to the input of another. e.g. the following examples feeds the output of the `ls` command into the `more` command, allows us to page through a directory listing.\n",
    "```\n",
    "$ ls | more\n",
    "```\n",
    "\n",
    "The pipe is crucial in allowing us to feed to the output of one commnd into another using standard input and output i.e. `stdin` and `stdout`."
   ]
  },
  {
   "cell_type": "markdown",
   "metadata": {},
   "source": [
    "<img src=\"https://upload.wikimedia.org/wikipedia/commons/4/45/Crystal_Clear_app_proxy.png\" align=\"right\" width=\"64\" height=\"64\" />\n",
    "\n",
    "## Connecting Commands via Arguments\n",
    "\n",
    "Some commands or programs require input via arguments, not via `stdin` or `stdout`. For these, we can use `xargs`. \n",
    "\n",
    "* `xargs <command>` - take input from `stdout` and feed it, as arguments to *<command>*. e.g.\n",
    "```\n",
    "echo 'one two' | xargs mkdir\n",
    "```\n",
    "will create two directors, \"one\" and \"two\". To create a single directory called \"one two\", we would escapte the space.\n",
    "```\n",
    "echo 'one\\ two' | xargs mkdir\n",
    "```\n",
    "\n",
    "In another example, the following line would create a new file for line of `filelist.txt`.\n",
    "```\n",
    "cat filelist.txt | xargs touch\n",
    "```\n",
    "\n"
   ]
  },
  {
   "cell_type": "markdown",
   "metadata": {},
   "source": [
    "<img src=\"https://upload.wikimedia.org/wikipedia/commons/a/ae/Quick_restart.png\" align=\"right\" width=\"64\" height=\"64\" />\n",
    "\n",
    "## Processing Commands\n",
    "\n",
    "Next, we need commands to help as search, extract and manipulate data.\n",
    "\n",
    "### Regular Expressions\n",
    "\n",
    "Regular expressions give us a powerful, flexible and simple way to search and manipulate text. For this, we have the `grep` command - \"Get REgular exPression\"\n",
    "* `grep <pattern> <files>` - search through the files for lines which match the `<pattern>`.\n",
    "\n",
    "It is often used a filter, to process the output of one command and present only what we are interested in. e.g.\n",
    "```\n",
    "ls /etc | grep sudo\n",
    "```\n",
    "would give us a listing of all files in the `/etc` folder that contain the string \"sudo\"\n",
    "\n",
    "\n"
   ]
  },
  {
   "cell_type": "markdown",
   "metadata": {},
   "source": [
    "<img src=\"https://upload.wikimedia.org/wikipedia/commons/5/5c/Crystal_Clear_filesystem_desktop.png\" align=\"right\" width=\"64\" height=\"64\" />\n",
    "\n",
    "## Changing Files In Place\n",
    "\n",
    "It's a common use case that we cant to replace all instances of string in a file with another string. This can be done using the `sed` commands - \"Stream EDitor\".\n",
    "\n",
    "* `sed <options> <file_name>` - perform insertion, deletion, search or replace on the given `<file_name>`. e.g.\n",
    "```\n",
    "sed 's/bobs/zibs/' test.txt > newfile.txt\n",
    "```\n",
    "would replace all \"bobs\" in the \"text.txt\" file with \"zibs\" and store the results in \"newfile.txt\". To perform the replacement in the original file, we can use the `-i` option.\n",
    "```\n",
    "sed -i 's/bobs/zibs/g' test.txt\n",
    "```\n",
    "\n",
    "*Note:* For some reason, '' afer `-i` i.e. `sed -i '' 's/bobs/zibs/g' test.txt`\n",
    "\n",
    "\n",
    "\n",
    "\n"
   ]
  },
  {
   "cell_type": "markdown",
   "metadata": {},
   "source": [
    "<img src=\"https://upload.wikimedia.org/wikipedia/commons/a/a8/Crystal_Clear_app_ksnake.png\" align=\"right\" width=\"64\" height=\"64\" />\n",
    "\n",
    "## Creating Scripts\n",
    "\n",
    "Scripts are simply text files that contain instructions that can be understood or executed by some runtime engine or interpreter.\n",
    "\n",
    "As en example, we create a simple `zsh` scripts. The contents of the scripts file should be as follows:\n",
    "```\n",
    "#! /bin/zsh\n",
    "<instruction line 1>\n",
    "<instruction line 2>\n",
    "```\n",
    "e.g.\n",
    "```\n",
    "#! /bin/zsh\n",
    "ls | echo \"This contents of this folder are:\"\n",
    "```\n",
    "This file, when executed, will print \"The contents of this folder are:\" followed by a listing of the files and folder in the current directory.\n",
    "\n",
    "*Note:* Although the shebang (`#!`) is not strictly required, it tells the operating system it is an exectable and how to execute it. There are many reason to use it. For further reading, see the [Wikipedia Shebang article](https://en.wikipedia.org/wiki/Shebang_(Unix))\n",
    "\n",
    "\n"
   ]
  },
  {
   "cell_type": "markdown",
   "metadata": {},
   "source": [
    "<img src=\"https://upload.wikimedia.org/wikipedia/commons/d/d5/Crystal_Clear_action_db_status.png\" align=\"right\" width=\"64\" height=\"64\" />\n",
    "\n",
    "## Invoking Scripts\n",
    "\n",
    "There are two main ways to execute scripts.\n",
    "* manually invoce the script e.g. `sh scipt.sh` or `python main.py'\n",
    "* my marking the script as executable\n",
    "```\n",
    "chmod +x script.sh\n",
    "./script.sh\n",
    "```\n",
    "\n",
    "*Note:* when using the second approch, notice that we specify the current folder for the scripts location, otherwise the OS will typically only look in the systems PATH\n"
   ]
  },
  {
   "cell_type": "markdown",
   "metadata": {},
   "source": [
    "<img src=\"https://upload.wikimedia.org/wikipedia/commons/4/42/Crystal_Clear_app_web.png\" align=\"right\" width=\"64\" height=\"64\" />\n",
    "\n",
    "## Symlinks\n",
    "\n",
    "Symlinks are symbolic links. The appear as file system objects, but are effectively just pointers to other files and folders. It is useful for maintaining multiple copies of a file in many places at once without using up storage for the \"copies\"; instead, a link \"points\" to the original copy.\n",
    "\n",
    "* `ln -s <file/folder> <linkname>` - create a symbolic to the `<file/folder>` called `<linkname>`.\n",
    "\n",
    "*Warning:* Symbolic links are very powerful in terms of linking, sharing and preventing data duplication, but they also make it very easy to delete and modify data unintentionally. Beware.\n"
   ]
  },
  {
   "cell_type": "markdown",
   "metadata": {},
   "source": [
    "<img src=\"https://upload.wikimedia.org/wikipedia/commons/3/30/Crystal_Clear_app_kspaceduel.png\" align=\"right\" width=\"64\" height=\"64\" />\n",
    "\n",
    "## Summary \n",
    "\n",
    "This talks only touches the surface of what is possible with the tools available to us. It is an introduction, and far from comprehensive or detailed.\n",
    "\n",
    "Each one of these topics coud be a talk by iteself, but we hope this at least gives one a starting point for the wonderful world that is the command line! \n",
    "\n",
    "Go forth and command!\n"
   ]
  }
 ],
 "metadata": {
  "kernelspec": {
   "display_name": "Python 3",
   "language": "python",
   "name": "python3"
  },
  "language_info": {
   "codemirror_mode": {
    "name": "ipython",
    "version": 3
   },
   "file_extension": ".py",
   "mimetype": "text/x-python",
   "name": "python",
   "nbconvert_exporter": "python",
   "pygments_lexer": "ipython3",
   "version": "3.7.7"
  }
 },
 "nbformat": 4,
 "nbformat_minor": 2
}
