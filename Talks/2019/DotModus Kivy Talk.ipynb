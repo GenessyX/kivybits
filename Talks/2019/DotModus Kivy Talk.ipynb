{
 "cells": [
  {
   "cell_type": "markdown",
   "metadata": {
    "slideshow": {
     "slide_type": "slide"
    }
   },
   "source": [
    "<img src=\"https://kivy.org/logos/kivy-logo-black-64.png\" align=\"right\">\n",
    "\n",
    "# DotModus Devs and Bevs - Kivy\n",
    "\n",
    "\n",
    "***Warning***: This may get long and technical, but we end with pretty vids and pics! Promise!\n"
   ]
  },
  {
   "cell_type": "markdown",
   "metadata": {
    "slideshow": {
     "slide_type": "slide"
    }
   },
   "source": [
    "<img src=\"media/cami_desktop.jpg\" align=\"right\" width=\"800\" height=\"600\">\n",
    "\n",
    "# Introduction\n",
    "## Why am I here?\n",
    "\n",
    "Good question. This picture helps with the anwer.\n",
    "\n",
    "What do we have here?\n",
    "* One Python codebase\n",
    "* Native applications running on:\n",
    "  * Ubuntu 18.04- Mouse + Keyboard\n",
    "  * MSI Flxed Touch Screen (Ubuntu 18.04)\n",
    "  * Windows 10 Tablet\n",
    "  * MacOS 10.11\n",
    "  * Android 8.1\n",
    "  * An iPad running iOS 9.3\n",
    "* One happy developer\n"
   ]
  },
  {
   "cell_type": "markdown",
   "metadata": {
    "slideshow": {
     "slide_type": "slide"
    }
   },
   "source": [
    "<img src=\"https://upload.wikimedia.org/wikipedia/commons/f/fe/Crystal_Project_Amor.png\" width=\"128\" height=\"128\" align=\"right\"/>  \n",
    "## Why a Happy developer?\n",
    "\n",
    "This question is easy to answer.\n",
    "* I can write my whole application in one language - Python\n",
    "* I can deploy that application to (almost) any platform\n",
    "* It's a native app, using hardware accelration\n",
    "* It's modern, highly responsive and supports multi-touch\n",
    "* It completely free, both financially and legally (MIT licensed)\n",
    "* Completely self-contained - depends upon nothing but a CPU, GPU + C compiler\n",
    "* It makes my dumb-ass look like I know a lot"
   ]
  },
  {
   "cell_type": "markdown",
   "metadata": {
    "slideshow": {
     "slide_type": "slide"
    }
   },
   "source": [
    "## What is Kivy?\n",
    "<img src=\"media/website.png\" width=\"800\" height=\"600\" align=\"center\"/>  \n"
   ]
  },
  {
   "cell_type": "markdown",
   "metadata": {
    "slideshow": {
     "slide_type": "slide"
    }
   },
   "source": [
    "<img src=\"https://upload.wikimedia.org/wikipedia/commons/a/a8/Crystal_Clear_app_ksnake.png\" width=\"128\" height=\"128\" align=\"right\"/>  \n",
    "<imgss src=\"media/axestar.jpg\" width=\"150\" height=\"300\" align=\"right\"/>  \n",
    "## Why is Kivy important?\n",
    "\n",
    "Kivy is important in various ways.\n",
    "\n",
    "* Kivy is the only options for running Python on mobile devices.\n",
    "* It's free of any vendor specific technology or dependency - Google, Apple or Microsoft.\n",
    "* It still allows you to use vendor specific technologies.\n",
    "* It's MIT licensed - 100% transparent from end-to-end.\n",
    "\n"
   ]
  },
  {
   "cell_type": "markdown",
   "metadata": {
    "slideshow": {
     "slide_type": "slide"
    }
   },
   "source": [
    "<img src=\"https://upload.wikimedia.org/wikipedia/commons/0/06/Crystal_Clear_app_kivio.png\" width=\"128\" height=\"128\" align=\"right\"/>  \n",
    "## How Does Kivy Work?\n",
    "\n",
    "Kivy takes a conceptually simple approach to minimizing OS dependencies.\n",
    "* Separates concerns into \"Core abstractions\"\n",
    "  * *InputProviders* - Mouse, touch, keydoard, Kinect, gyroscope etc.\n",
    "  * *Graphics Backends* - OpenGL ES 2.0 compatible providers (Supports DirectX11 via [Angle](https://opensource.google/projects/angle))\n",
    "  * *CoreProviders* - Window (SDL2), Text, Image, Audio, Video providers\n",
    "* Supplies a Python/Cython package which exposes *CoreProviders*\n",
    "* Supplies tools that produce OS specific bootstraps, which:\n",
    "  * produce packaged Python/Cython interpreters\n",
    "  * includes any pure Python requirements\n",
    "  * compile native OS binaries for C/C++/binary dependencies e.g. matplotlib, pillow\n"
   ]
  },
  {
   "cell_type": "markdown",
   "metadata": {
    "slideshow": {
     "slide_type": "slide"
    }
   },
   "source": [
    "<img src=\"https://upload.wikimedia.org/wikipedia/commons/1/1f/Crystal_Clear_app_All_software_is_current.png\" width=\"128\" height=\"128\" align=\"right\"/>  \n",
    "## Why Use Kivy?\n",
    "\n",
    "* It facilitates novel and exciting interactions\n",
    "  * Multi-touch, surface input\n",
    "  * Mouse + Keyboard\n",
    "  * 3D input via LeapMotion, Kinect or any other input provides\n",
    "* Allows for rich animation and multimedia experiences\n",
    "* Minimizes platform/OS differences - *no browser, widget toolkit quirks*\n",
    "* Simplifies testing and debugging - *one local process, no artificial backend/frontend split*\n",
    "* Carry UI/Framework learning across all platforms - *Android Fragments? iOS segmented controls? WPF? UWP? WTF?*\n",
    "* Open Source = you can fix your own problems\n"
   ]
  },
  {
   "cell_type": "markdown",
   "metadata": {
    "slideshow": {
     "slide_type": "slide"
    }
   },
   "source": [
    "<img src=\"https://upload.wikimedia.org/wikipedia/commons/8/8c/Crystal_Clear_app_help_index.png\" width=\"128\" height=\"128\" align=\"right\"/>\n",
    "\n",
    "## Why not use Kivy?\n",
    "\n",
    "Whilst Kivy is great for many things, but it's not the solution for all problems.\n",
    "* Does not adopt the \"look-and-feel\" of native apps\n",
    "* No \"out-of-the-box\" OS integration i.e. It's possible, but not always simple to leverage OS specific features\n",
    "* Typically lags behind OS \"bleeding-edge\" features\n",
    "* Packaging for different OS's requires understanding, experimention and patience\n",
    "* Open Source , with Google Forum + Discord channels. But often, it's up to you.\n",
    "\n"
   ]
  },
  {
   "cell_type": "markdown",
   "metadata": {
    "slideshow": {
     "slide_type": "slide"
    }
   },
   "source": [
    "<img src=\"https://upload.wikimedia.org/wikipedia/commons/d/d2/Crystal_Clear_app_stylesheet.png\" width=\"128\" height=\"128\" align=\"right\"/>\n",
    "\n",
    "## Comparison Against Cross-Platform HTML5\n",
    "\n",
    "HTML 5 solutions present various options for cross-platform deployment. These include:\n",
    "* Electron\n",
    "* Cordova\n",
    "* React\n",
    "* VueJS\n",
    "\n",
    "They provide a safe and tested method of using skills and technologies across devices, and a full discussion of their pros and cons could take days. In brief, we mentioned on their inherent benefits and limitations.\n",
    "\n",
    "### Pros\n",
    "* Re-use web skills and tech for mobile apps\n",
    "* Minimal deployment size\n",
    "* Extensive support and skills available\n",
    "\n",
    "### Cons\n",
    "* Complex - many moving parts (Javascript, HTML5, CSS + Backend/PHP/Python/C# etc)\n",
    "* Difficult to debug (in browser, declarative layout, complex CSS layout model)\n",
    "* Scalability - Weakly typed, lack of namespacing, non modular imports)\n",
    "* Browser compatibility\n",
    "* Limited native OS integration (browser sandbox)\n",
    "* Not built for multi-touch or rich animation/interaction"
   ]
  },
  {
   "cell_type": "markdown",
   "metadata": {
    "slideshow": {
     "slide_type": "slide"
    }
   },
   "source": [
    "<img src=\"https://upload.wikimedia.org/wikipedia/commons/0/05/Crystal_Clear_app_package_games.png\" width=\"128\" height=\"128\" align=\"right\"/>\n",
    "\n",
    "## Comparison Against Cross-Platform Game Engines\n",
    "\n",
    "[Game engine](https://en.wikipedia.org/wiki/List_of_game_engines) options include:\n",
    "* Unity\n",
    "* Unreal\n",
    "* Godot\n",
    "* Cocos2d\n",
    "* MonoGame\n",
    "\n",
    "Game engines provide much more visual freedom, but often at the expense of ease-of-use.\n",
    "\n",
    "### Pros\n",
    "\n",
    "* Visual beauty and splendour\n",
    "* Interactive freedom\n",
    "* Scaleability\n",
    "* Minimal cross platform quirks\n",
    "* Widely used, with commercial support options available\n",
    "* Local debugging and development\n",
    "\n",
    "#### Cons\n",
    "\n",
    "* Steep learning curve - 3D abstractions, models, framework mechanics etc.\n",
    "* Heavyweight deployment\n",
    "* Lack of familiar desktop/mobile interfaces\n",
    "* Limimted native OS integration"
   ]
  },
  {
   "cell_type": "markdown",
   "metadata": {
    "slideshow": {
     "slide_type": "slide"
    }
   },
   "source": [
    "<img src=\"https://upload.wikimedia.org/wikipedia/commons/3/30/Crystal_Clear_app_kspaceduel.png\" width=\"128\" height=\"128\" align=\"right\" />\n",
    "\n",
    "## Advantages of Kivy\n",
    "\n",
    "Some of the real advantages of Kivy emerge from using it.\n",
    "\n",
    "* Well designed, consistent, fluid layout sematics (vs. CSS's \"!important\" tag? Are you serious?)\n",
    "* Modern, event-based architecture\n",
    "* Access to complete range of Python libraries (*Note: * Some may require recipes)\n",
    "* Can access native OS functionality if required\n",
    "* Build on desktop, easily deploy to mobile or multi-touch devices\n",
    "* Rich Ecosystem of tools and libraries"
   ]
  },
  {
   "cell_type": "markdown",
   "metadata": {
    "slideshow": {
     "slide_type": "slide"
    }
   },
   "source": [
    "<img src=\"https://upload.wikimedia.org/wikipedia/commons/9/91/Crystal_Project_app_kfouleggs.png\" width=\"128\" height=\"128\" align=\"right\">\n",
    "\n",
    "## The Kivy Ecosystem\n",
    "\n",
    "The core Kivy framework is kept minimal, to avoid bloat and including unneccesary packages. Useful tools, packages and extensions are offered as sister projects.\n",
    "\n",
    "Some of these are:\n",
    "* [buildozer](https://github.com/kivy/buildozer) - Helps deploy kivy application, mainly Android APKs.\n",
    "* [kivy-ios](https://github.com/kivy/kivy-ios) - Builds XCode projects for iOS deployment.\n",
    "* [pyjnius](https://github.com/kivy/pyjnius) - Call Java (Android) from Python.\n",
    "* [pyobjus](https://github.com/kivy/pyobjus) - Call Objective C (iOS/MacOS) from Python.\n",
    "* [python-for-android](https://github.com/kivy/python-for-android) - Support core Android functions e.g. Services, Storage, Runtime permissions.\n",
    "* [plyer](https://github.com/kivy/plyer) - A platform-independent api to use features commonly found on various platforms, notably mobile.\n",
    "* [kivy-garden](https://github.com/kivy-garden) - A collection of public repos for kivy widgets and components"
   ]
  },
  {
   "cell_type": "markdown",
   "metadata": {},
   "source": [
    "<img src=\"https://upload.wikimedia.org/wikipedia/commons/4/45/Crystal_Clear_app_ktron.png\" width=\"128\" height=\"128\" align=\"right\" />\n",
    "\n",
    "## Noteworthy Kivy Projects\n",
    "\n",
    "Many exicting and inspiring Kivy projects are out there. A few of the more interesting include:\n",
    "\n",
    "* [Kivy 3D Gui](https://github.com/kpiorno/kivy3dgui) - Drop you Kivy UI onto 3D models, easily create 3D interacitons\n",
    "* [Kivy GMaps](https://github.com/tito/kivy-gmaps) - Integrate Google Maps into Kivy applications\n",
    "* [KivyMD](https://github.com/HeaTTheatR/KivyMD) - A Google Material Design widget set build in Kivy\n",
    "* [QrScan](https://github.com/AndreMiras/QrScan) - QrCode scanner, built for Kivy, runs on iOS/Android/Desktop\n",
    "* [Kivy Lite Emulator](https://github.com/mcroni/KivyLiteEmulator) - Test mobile device resolutions on your desktop\n"
   ]
  },
  {
   "cell_type": "code",
   "execution_count": null,
   "metadata": {},
   "outputs": [],
   "source": []
  }
 ],
 "metadata": {
  "kernelspec": {
   "display_name": "Python 3",
   "language": "python",
   "name": "python3"
  },
  "language_info": {
   "codemirror_mode": {
    "name": "ipython",
    "version": 3
   },
   "file_extension": ".py",
   "mimetype": "text/x-python",
   "name": "python",
   "nbconvert_exporter": "python",
   "pygments_lexer": "ipython3",
   "version": "3.6.8"
  }
 },
 "nbformat": 4,
 "nbformat_minor": 2
}
