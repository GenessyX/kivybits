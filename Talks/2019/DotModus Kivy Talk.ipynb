{
 "cells": [
  {
   "cell_type": "markdown",
   "metadata": {},
   "source": [
    "<img src=\"https://kivy.org/logos/kivy-logo-black-64.png\" align=\"right\">\n",
    "\n",
    "# DotModus Devs and Bevs - Kivy\n"
   ]
  },
  {
   "cell_type": "markdown",
   "metadata": {},
   "source": [
    "# Introduction\n",
    "## Why am I here?\n",
    "\n",
    "Good question. This picture helps with the anwer.\n",
    "<img src=\"media/cami_desktop.jpg\" align=\"right\" width=\"800\" height=\"600\">\n",
    "\n",
    "What do we have here?\n",
    "* One Python codebase\n",
    "* Native applications running on:\n",
    "  * Ubuntu 18.04- Mouse + Keyboard\n",
    "  * MSI Flxed Touch Screen (Ubuntu 18.04)\n",
    "  * Windows 10 Tablet\n",
    "  * MaxOSC\n",
    "  * Android 8.1\n",
    "  * An iPad running iOS 9.3\n",
    "* One happy developer\n"
   ]
  },
  {
   "cell_type": "markdown",
   "metadata": {},
   "source": [
    "<img src=\"https://upload.wikimedia.org/wikipedia/commons/f/fe/Crystal_Project_Amor.png\" width=\"200\" height=\"200\" align=\"right\"/>  \n",
    "## Why a Happy developer\n",
    "\n",
    "This question is easy to answer.\n",
    "* I can write my whole application in one language - Python\n",
    "* I can deploy that application to (almost) any platform\n",
    "* It's a native app, using hardware accelration\n",
    "* It's modern, highly responsive and supports multi-touch\n",
    "* It completely free, both financially and legally (MIT licensed)\n",
    "* Completely self-contained - depends upon nothing but a CPU, GPU + C compiler\n",
    "* It makes my dumb-ass look like I know a lot"
   ]
  },
  {
   "cell_type": "markdown",
   "metadata": {},
   "source": [
    "## What is Kivy?\n",
    "<img src=\"media/website.png\" width=\"800\" height=\"600\" align=\"center\"/>  \n"
   ]
  },
  {
   "cell_type": "markdown",
   "metadata": {},
   "source": [
    "<imgss src=\"https://upload.wikimedia.org/wikipedia/commons/d/d4/Crystal_Clear_app_kguitar.png\" width=\"200\" height=\"200\" align=\"right\"/>  \n",
    "<img src=\"media/axestar.jpg\" width=\"150\" height=\"300\" align=\"right\"/>  \n",
    "## Why is Kivy important?\n",
    "\n",
    "Kivy is important in various ways.\n",
    "\n",
    "* Kivy is the only options for running Python on mobile devices.\n",
    "* It's free of any vendor specific technology or dependency - Google, Apple or Microsoft.\n",
    "* It still allows you to use vendor specific technologies.\n",
    "* It's MIT licensed - 100% transparent from end-to-end.\n",
    "* It facilitates novel and exciting interactions\n",
    "  * Multi-touch, surface input\n",
    "  * Mouse + Keyboard\n",
    "  * 3D input via LeapMotion, Kinect or any other input provides\n",
    "\n",
    "### Why use Kivy?\n",
    "### Why not use Kivy?\n",
    "## "
   ]
  }
 ],
 "metadata": {
  "kernelspec": {
   "display_name": "Python 3",
   "language": "python",
   "name": "python3"
  },
  "language_info": {
   "codemirror_mode": {
    "name": "ipython",
    "version": 3
   },
   "file_extension": ".py",
   "mimetype": "text/x-python",
   "name": "python",
   "nbconvert_exporter": "python",
   "pygments_lexer": "ipython3",
   "version": "3.6.8"
  }
 },
 "nbformat": 4,
 "nbformat_minor": 2
}
