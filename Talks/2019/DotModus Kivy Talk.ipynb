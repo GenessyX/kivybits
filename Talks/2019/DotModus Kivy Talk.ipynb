{
 "cells": [
  {
   "cell_type": "markdown",
   "metadata": {},
   "source": [
    "<img src=\"https://kivy.org/logos/kivy-logo-black-64.png\" align=\"right\">\n",
    "\n",
    "# DotModus Devs and Bevs - Kivy\n"
   ]
  },
  {
   "cell_type": "markdown",
   "metadata": {},
   "source": [
    "# Introduction\n",
    "## Why am I here?\n",
    "\n",
    "Good question. This picture helps with the anwer.\n",
    "<img src=\"media/cami_desktop.jpg\" align=\"right\" width=\"800\" height=\"600\">\n",
    "\n",
    "What do we have here?\n",
    "* One Python codebase\n",
    "* Native applications running on:\n",
    "  * Ubuntu 18.04- Mouse + Keyboard\n",
    "  * MSI Flxed Touch Screen (Ubuntu 18.04)\n",
    "  * Windows 10 Tablet\n",
    "  * MacOS 10.11\n",
    "  * Android 8.1\n",
    "  * An iPad running iOS 9.3\n",
    "* One happy developer\n"
   ]
  },
  {
   "cell_type": "markdown",
   "metadata": {},
   "source": [
    "<img src=\"https://upload.wikimedia.org/wikipedia/commons/f/fe/Crystal_Project_Amor.png\" width=\"128\" height=\"128\" align=\"right\"/>  \n",
    "## Why a Happy developer?\n",
    "\n",
    "This question is easy to answer.\n",
    "* I can write my whole application in one language - Python\n",
    "* I can deploy that application to (almost) any platform\n",
    "* It's a native app, using hardware accelration\n",
    "* It's modern, highly responsive and supports multi-touch\n",
    "* It completely free, both financially and legally (MIT licensed)\n",
    "* Completely self-contained - depends upon nothing but a CPU, GPU + C compiler\n",
    "* It makes my dumb-ass look like I know a lot"
   ]
  },
  {
   "cell_type": "markdown",
   "metadata": {},
   "source": [
    "## What is Kivy?\n",
    "<img src=\"media/website.png\" width=\"800\" height=\"600\" align=\"center\"/>  \n"
   ]
  },
  {
   "cell_type": "markdown",
   "metadata": {},
   "source": [
    "<img src=\"https://upload.wikimedia.org/wikipedia/commons/a/a8/Crystal_Clear_app_ksnake.png\" width=\"128\" height=\"128\" align=\"right\"/>  \n",
    "<imgss src=\"media/axestar.jpg\" width=\"150\" height=\"300\" align=\"right\"/>  \n",
    "## Why is Kivy important?\n",
    "\n",
    "Kivy is important in various ways.\n",
    "\n",
    "* Kivy is the only options for running Python on mobile devices.\n",
    "* It's free of any vendor specific technology or dependency - Google, Apple or Microsoft.\n",
    "* It still allows you to use vendor specific technologies.\n",
    "* It's MIT licensed - 100% transparent from end-to-end.\n",
    "\n"
   ]
  },
  {
   "cell_type": "markdown",
   "metadata": {},
   "source": [
    "<img src=\"https://upload.wikimedia.org/wikipedia/commons/0/06/Crystal_Clear_app_kivio.png\" width=\"128\" height=\"128\" align=\"right\"/>  \n",
    "## How Does Kivy Work?\n",
    "\n",
    "Kivy takes a conceptually simple approach to minimizing OS dependencies.\n",
    "* Separates concerns into \"Core abstractions\"\n",
    "  * *InputProviders* - Mouse, touch, keydoard, Kinect, gyroscope etc.\n",
    "  * *Graphics Backends* - OpenGL ES 2.0 compatible providers (Supports DirectX11 via [Angle](https://opensource.google/projects/angle))\n",
    "  * *CoreProviders* - Window (SDL2), Text, Image, Audio, Video providers\n",
    "* Supplies a Python/Cython package which exposes *CoreProviders*\n",
    "* Supplies tools that produce OS specific bootstraps, which:\n",
    "  * produce packaged Python/Cython interpreters\n",
    "  * includes any pure Python requirements\n",
    "  * compile native OS binaries for C/C++/binary dependencies e.g. matplotlib, pillow\n"
   ]
  },
  {
   "cell_type": "markdown",
   "metadata": {},
   "source": [
    "<img src=\"https://upload.wikimedia.org/wikipedia/commons/1/1f/Crystal_Clear_app_All_software_is_current.png\" width=\"128\" height=\"128\" align=\"right\"/>  \n",
    "## Why Use Kivy?\n",
    "\n",
    "* It facilitates novel and exciting interactions\n",
    "  * Multi-touch, surface input\n",
    "  * Mouse + Keyboard\n",
    "  * 3D input via LeapMotion, Kinect or any other input provides\n",
    "* Allows for rich animation and multimedia experiences\n",
    "* Minimizes platform/OS differences - *no browser, widget toolkit quirks*\n",
    "* Simplifies testing and debugging - *one local process, no artificial backend/frontend split*\n",
    "* Carry UI/Framework learning across all platforms - *Android Fragments? iOS segmented controls? WPF? UWP? WTF?*\n",
    "* Open Source = you can fix your own problems\n"
   ]
  },
  {
   "cell_type": "markdown",
   "metadata": {},
   "source": [
    "<img src=\"https://upload.wikimedia.org/wikipedia/commons/8/8c/Crystal_Clear_app_help_index.png\" width=\"128\" height=\"128\" align=\"right\"/>\n",
    "\n",
    "## Why not use Kivy?\n",
    "\n",
    "Whilst Kivy is great for many things, but it's not the solution for all problems.\n",
    "* Does not adopt the \"look-and-feel\" of native apps\n",
    "* No \"out-of-the-box\" OS integration i.e. not simple to leverage OS specific features\n",
    "* Typically lags behind OS \"bleeding-edge\" features\n",
    "* Packaging for different OS's requires understanding, experimention and patience\n",
    "* Open Source = you often have to fix your own problems\n",
    "\n"
   ]
  },
  {
   "cell_type": "markdown",
   "metadata": {},
   "source": [
    "<img src=\"https://upload.wikimedia.org/wikipedia/commons/d/d2/Crystal_Clear_app_stylesheet.png\" width=\"128\" height=\"128\" align=\"right\"/>\n",
    "\n",
    "## Comparison Against Cross-Platform HTML5\n",
    "\n",
    "HTML 5 solutions present various options for cross-platform deployment. These include:\n",
    "* Electron\n",
    "* Cordova\n",
    "* React\n",
    "* VueJS\n",
    "\n",
    "They provide a safe and tested method of using skills and technologies across devices.\n",
    "\n",
    "### Comparison Matrix\n",
    "\n",
    "| Considerations | HTML 5                                    |  Kivy |\n",
    "|----------------|-------------------------------------------|--------------------------------------|\n",
    "| Deployment     | Flexible, from heavyweight to lightweight | Heavyweight |\n",
    "| Support        | Good. Wide usage, some with corporate backing | Open Source model |\n",
    "| Langages       | JavaScript, HTML5, CSS + backend (PHP/Python/C# etc) | Python, KV |\n",
    "| Debug / Test   | Complex. Local vs. remote, browser sandbox | Simple local process |\n",
    "| Design         | Document model, extended for interaction  | Well designed, hierarchical container model |\n",
    "| Animations     | Limited, often complex to implement       | Simple. Part of design |\n",
    "| Scalability    | Limitation of Javascript (weak typing, scoping, imports etc) | Modular, designed language |\n",
    "| Cross platform quirks | Browser support | Minimal |\n",
    "| Native OS integration | Limited, difficult | Complete, varying difficulty |\n"
   ]
  },
  {
   "cell_type": "markdown",
   "metadata": {},
   "source": [
    "<img src=\"https://upload.wikimedia.org/wikipedia/commons/0/05/Crystal_Clear_app_package_games.png\" width=\"128\" height=\"128\" align=\"right\"/>\n",
    "\n",
    "## Comparison Against Cross-Platform Game Engines\n",
    "\n",
    "[Game engine](https://en.wikipedia.org/wiki/List_of_game_engines) options include:\n",
    "* Unity\n",
    "* Unreal\n",
    "* Godot\n",
    "* Socos2d\n",
    "* MonoGame\n",
    "\n",
    "### Comparison Matrix\n",
    "\n",
    "| Considerations | HTML 5                                    |  Kivy |\n",
    "|----------------|-------------------------------------------|--------------------------------------|\n",
    "| Deployment     | Heavyweight                               | Heavyweight |\n",
    "| Support        | Good, some with corporate backing | Open Source model |\n",
    "| Langages       | C# / Python / Lua / Javascript | Python, KV |\n",
    "| Debug / Test   | Moderately complex (language vs. game engine) | Simple local process |\n",
    "| Design         | 3D World and models  ? | Well designed, hierarchical container model |\n",
    "| Animations     | Simple, part of design      | Simple. Part of design |\n",
    "| Scalability    | As per framework | Modular, designed language |\n",
    "| Cross platform quirks | Minimal | Minimal |\n",
    "| Native OS integration | Limited, difficult | Complete, varying difficulty |\n"
   ]
  },
  {
   "cell_type": "markdown",
   "metadata": {},
   "source": [
    "<img src=\"https://upload.wikimedia.org/wikipedia/commons/3/30/Crystal_Clear_app_kspaceduel.png\" width=\"128\" height=\"128\" align=\"right\" />\n",
    "\n",
    "## Advantages of Kivy\n",
    "\n",
    "Some of the real advantages of Kivy emerge from using it.\n",
    "\n",
    "* Consistent, fluid layout (vs. CSS's \"!important\" tag? Are you serious?)\n",
    "* Modern, event-based architecture\n",
    "* Access to complete range of Python libraries (*Note: * Some may require recipes)\n",
    "* Can complete application design independent of deployment target\n",
    "* Can access native OS functionality if required\n",
    "* Build on desktop, easily deploy to mobile or multi-touch devices\n"
   ]
  },
  {
   "cell_type": "code",
   "execution_count": null,
   "metadata": {},
   "outputs": [],
   "source": []
  }
 ],
 "metadata": {
  "kernelspec": {
   "display_name": "Python 3",
   "language": "python",
   "name": "python3"
  },
  "language_info": {
   "codemirror_mode": {
    "name": "ipython",
    "version": 3
   },
   "file_extension": ".py",
   "mimetype": "text/x-python",
   "name": "python",
   "nbconvert_exporter": "python",
   "pygments_lexer": "ipython3",
   "version": "3.6.8"
  }
 },
 "nbformat": 4,
 "nbformat_minor": 2
}
